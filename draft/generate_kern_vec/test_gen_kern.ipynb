{
 "metadata": {
  "language_info": {
   "codemirror_mode": {
    "name": "ipython",
    "version": 3
   },
   "file_extension": ".py",
   "mimetype": "text/x-python",
   "name": "python",
   "nbconvert_exporter": "python",
   "pygments_lexer": "ipython3",
   "version": "3.8.5-final"
  },
  "orig_nbformat": 2,
  "kernelspec": {
   "name": "python3",
   "display_name": "Python 3"
  }
 },
 "nbformat": 4,
 "nbformat_minor": 2,
 "cells": [
  {
   "cell_type": "code",
   "execution_count": null,
   "metadata": {},
   "outputs": [],
   "source": [
    "from sympy import *"
   ]
  },
  {
   "source": [
    "We consider kernels of the form\n",
    "\n",
    "$$k(\\nu(\\boldsymbol{x},\\boldsymbol{l}))=k\\circ\\nu(\\boldsymbol{x},\\boldsymbol{l}).$$"
   ],
   "cell_type": "markdown",
   "metadata": {}
  },
  {
   "cell_type": "code",
   "execution_count": null,
   "metadata": {},
   "outputs": [],
   "source": [
    "x, th, l = symbols(r'x, \\theta, l')\n",
    "nu = Function(r'\\nu', real=True)(x, th)\n",
    "dnudx = Function(r'\\nu_x')(x, th)\n",
    "dnudth = Function(r'\\nu_\\theta')(x, th)\n",
    "d2nudx2 = Function(r'\\nu_{xx}')(x, th)\n",
    "d2nudth2 = Function(r'\\nu_{\\theta\\theta}')(x, th)\n",
    "d2nudxdth = Function(r'\\nu_{x\\theta}')(x, th)\n",
    "dkdr = Function(r'k_r')(nu)\n",
    "d2kdr2 = Function(r'k_{rr}')(nu)\n",
    "k = Function(r'k', real=True)(nu)"
   ]
  },
  {
   "source": [
    "Derivatives of $k$ w.r.t. $x$ and $l$ are"
   ],
   "cell_type": "markdown",
   "metadata": {}
  },
  {
   "cell_type": "code",
   "execution_count": null,
   "metadata": {},
   "outputs": [],
   "source": [
    "def subs_explicit(f):\n",
    "    return ( \n",
    "        f.subs(diff(nu, x), dnudx).subs(diff(nu, th), dnudth).subs(diff(k, nu), dkdr)\n",
    "        .subs(diff(dnudx, x), d2nudx2).subs(diff(dnudx, th), d2nudxdth).subs(diff(dkdr, nu), d2kdr2)\n",
    "    )\n",
    "\n",
    "subs_explicit(diff(k, x))"
   ]
  },
  {
   "cell_type": "code",
   "execution_count": null,
   "metadata": {},
   "outputs": [],
   "source": [
    "dkdth_ov_k_sqexp_l2 = dkdth_ov_k_sqexp.subs(nu, th*x**2).simplify(); dkdth_ov_k_sqexp_l2"
   ]
  },
  {
   "cell_type": "code",
   "execution_count": null,
   "metadata": {},
   "outputs": [],
   "source": [
    "d2kdth2_ov_k_sqexp = (diff(k, th, th)/k).subs(k, exp(-0.5*nu)).simplify().cancel(); d2kdth2_ov_k_sqexp\n",
    "d2kdth2_ov_k_sqexp_l2 = d2kdth2_ov_k_sqexp.subs(nu, th*x**2).simplify(); d2kdth2_ov_k_sqexp_l2"
   ]
  },
  {
   "cell_type": "code",
   "execution_count": null,
   "metadata": {},
   "outputs": [],
   "source": [
    "d2kdx2_ov_k_sqexp = ((diff(k, x, x)/k).subs(k, exp(-nu/2))).simplify().cancel(); d2kdx2_ov_k_sqexp"
   ]
  },
  {
   "cell_type": "code",
   "execution_count": null,
   "metadata": {},
   "outputs": [],
   "source": [
    "d2kdx2_ov_k_sqexp_l2 = d2kdx2_ov_k_sqexp.subs(nu, -2.0*th*x**2).simplify(); d2kdx2_ov_k_sqexp_l2"
   ]
  },
  {
   "cell_type": "code",
   "execution_count": null,
   "metadata": {},
   "outputs": [],
   "source": [
    "d2kdx2_ov_k_sqexp_l2sin = d2kdx2_ov_k_sqexp.subs(nu, sin(x*th)**2).simplify().trigsimp(); d2kdx2_ov_k_sqexp_l2sin"
   ]
  },
  {
   "cell_type": "code",
   "execution_count": null,
   "metadata": {},
   "outputs": [],
   "source": [
    "d3kdx2dth_ov_k_sqexp = ((diff(k, x, x, th)/k).subs(k, exp(-0.5*nu))).simplify().cancel(); d3kdx2dth_ov_k_sqexp"
   ]
  },
  {
   "cell_type": "code",
   "execution_count": null,
   "metadata": {},
   "outputs": [],
   "source": [
    "d3kdx2dth_ov_k_sqexp_l2 = d3kdx2dth_ov_k_sqexp.subs(nu, th*x**2).simplify(); d3kdx2dth_ov_k_sqexp_l2"
   ]
  },
  {
   "cell_type": "code",
   "execution_count": null,
   "metadata": {},
   "outputs": [],
   "source": [
    "d3kdx2dth_ov_k_sqexp_l2sin = d3kd2xdth.subs(nu, sin(x)**2*th).simplify().trigsimp().cancel(); d3kdx2dth_ov_k_sqexp_l2sin"
   ]
  },
  {
   "cell_type": "code",
   "execution_count": null,
   "metadata": {},
   "outputs": [],
   "source": [
    "fcode(dkdth_ov_k_sqexp_l2).replace('\\\\theta', 'th(kd)').replace('x', 'x(kd, :)')"
   ]
  },
  {
   "cell_type": "code",
   "execution_count": null,
   "metadata": {},
   "outputs": [],
   "source": [
    "template = \"\"\"\n",
    "subroutine nu_{name}\n",
    "    \n",
    "end subroutine\n",
    "\n",
    "\"\"\"\n",
    "\n",
    "kern_sqexp = template.format(name, 'sqexp', expr, 'exp(-sum(')subs(k, exp(-nu)).subs(nu, (x*th)**2))"
   ]
  },
  {
   "cell_type": "code",
   "execution_count": null,
   "metadata": {},
   "outputs": [],
   "source": []
  }
 ]
}