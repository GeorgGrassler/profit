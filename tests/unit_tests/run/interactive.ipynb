{
 "cells": [
  {
   "cell_type": "markdown",
   "metadata": {
    "pycharm": {
     "name": "#%% md\n"
    }
   },
   "source": [
    "# ZeroMQ Interface"
   ]
  },
  {
   "cell_type": "code",
   "execution_count": null,
   "metadata": {
    "pycharm": {
     "name": "#%%\n"
    }
   },
   "outputs": [],
   "source": [
    "from threading import Thread\n",
    "from time import sleep\n",
    "from profit.run.zeromq import ZeroMQInterface, ZeroMQRunnerInterface\n",
    "from profit.config import BaseConfig, ZeroMQInterfaceConfig\n",
    "\n",
    "BASE_CONFIG = BaseConfig.from_file('numpy.yaml')\n",
    "MAX_IDS = BASE_CONFIG['ntrain']\n",
    "config = {'class': 'zeromq'}\n",
    "config = ZeroMQInterfaceConfig(**config)\n",
    "config.process_entries(BASE_CONFIG)\n",
    "\n",
    "def runner():\n",
    "    rif = ZeroMQRunnerInterface(config, MAX_IDS, BASE_CONFIG['input'], BASE_CONFIG['output'])\n",
    "    print(f'input_vars {rif.input_vars}')\n",
    "    print(f'output_vars {rif.output_vars}')\n",
    "    rif.input[['u', 'v']][1] = 1, -1\n",
    "    for i in range(3):\n",
    "        rif.poll()\n",
    "        sleep(0.5)\n",
    "        print(f'runner {i}')\n",
    "    print(f'output {rif.output}')\n",
    "    print(f'internal {rif.internal}')\n",
    "    rif.clean()\n",
    "\n",
    "def worker():\n",
    "    wif = ZeroMQInterface(config, 1)\n",
    "    print(f'input {wif.input}')\n",
    "    wif.output['f'] = 2 * wif.input['u']\n",
    "    wif.time = 2\n",
    "    wif.done()\n",
    "\n",
    "rt = Thread(target=runner)\n",
    "wt = Thread(target=worker)\n",
    "\n",
    "rt.start()\n",
    "wt.start()\n",
    "wt.join()\n",
    "rt.join()"
   ]
  }
 ],
 "metadata": {
  "kernelspec": {
   "display_name": "Python 3",
   "language": "python",
   "name": "python3"
  },
  "language_info": {
   "codemirror_mode": {
    "name": "ipython",
    "version": 3
   },
   "file_extension": ".py",
   "mimetype": "text/x-python",
   "name": "python",
   "nbconvert_exporter": "python",
   "pygments_lexer": "ipython3",
   "version": "3.8.2"
  }
 },
 "nbformat": 4,
 "nbformat_minor": 1
}