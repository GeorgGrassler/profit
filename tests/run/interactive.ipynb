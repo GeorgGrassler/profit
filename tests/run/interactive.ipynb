{
 "cells": [
  {
   "cell_type": "code",
   "execution_count": 1,
   "metadata": {
    "collapsed": true
   },
   "outputs": [
    {
     "ename": "SyntaxError",
     "evalue": "'await' outside async function (zeromq.py, line 114)",
     "output_type": "error",
     "traceback": [
      "Traceback \u001B[0;36m(most recent call last)\u001B[0m:\n",
      "  File \u001B[1;32m\"/srv/home/robert/Data/Uni/BA/profit/venv/lib/python3.8/site-packages/IPython/core/interactiveshell.py\"\u001B[0m, line \u001B[1;32m3437\u001B[0m, in \u001B[1;35mrun_code\u001B[0m\n    exec(code_obj, self.user_global_ns, self.user_ns)\n",
      "  File \u001B[1;32m\"<ipython-input-1-bb06c2c068c7>\"\u001B[0m, line \u001B[1;32m1\u001B[0m, in \u001B[1;35m<module>\u001B[0m\n    from profit.config import Config\n",
      "  File \u001B[1;32m\"/srv/home/robert/Data/Uni/BA/profit/profit/__init__.py\"\u001B[0m, line \u001B[1;32m1\u001B[0m, in \u001B[1;35m<module>\u001B[0m\n    from profit.main import *\n",
      "  File \u001B[1;32m\"/srv/home/robert/Data/Uni/BA/profit/profit/main.py\"\u001B[0m, line \u001B[1;32m11\u001B[0m, in \u001B[1;35m<module>\u001B[0m\n    from profit.config import Config\n",
      "  File \u001B[1;32m\"/srv/home/robert/Data/Uni/BA/profit/profit/config.py\"\u001B[0m, line \u001B[1;32m6\u001B[0m, in \u001B[1;35m<module>\u001B[0m\n    from profit.run import Runner\n",
      "\u001B[0;36m  File \u001B[0;32m\"/srv/home/robert/Data/Uni/BA/profit/profit/run/__init__.py\"\u001B[0;36m, line \u001B[0;32m6\u001B[0;36m, in \u001B[0;35m<module>\u001B[0;36m\u001B[0m\n\u001B[0;31m    from . import zeromq\u001B[0m\n",
      "\u001B[0;36m  File \u001B[0;32m\"/srv/home/robert/Data/Uni/BA/profit/profit/run/zeromq.py\"\u001B[0;36m, line \u001B[0;32m114\u001B[0m\n\u001B[0;31m    await self.request('TIME')\u001B[0m\n\u001B[0m    ^\u001B[0m\n\u001B[0;31mSyntaxError\u001B[0m\u001B[0;31m:\u001B[0m 'await' outside async function\n"
     ]
    }
   ],
   "source": [
    "from profit.config import Config\n",
    "from profit.run import Runner\n",
    "from profit.run.test import MockupWorker\n",
    "\n",
    "import logging\n",
    "logging.basicConfig(level=logging.DEBUG)\n",
    "import asyncio"
   ]
  },
  {
   "cell_type": "code",
   "execution_count": 2,
   "outputs": [
    {
     "ename": "NameError",
     "evalue": "name 'Config' is not defined",
     "output_type": "error",
     "traceback": [
      "\u001B[0;31m---------------------------------------------------------------------------\u001B[0m",
      "\u001B[0;31mNameError\u001B[0m                                 Traceback (most recent call last)",
      "\u001B[0;32m<ipython-input-2-4f7eb381dfc6>\u001B[0m in \u001B[0;36m<module>\u001B[0;34m\u001B[0m\n\u001B[0;32m----> 1\u001B[0;31m \u001B[0mbase_config\u001B[0m \u001B[0;34m=\u001B[0m \u001B[0mConfig\u001B[0m\u001B[0;34m.\u001B[0m\u001B[0mfrom_file\u001B[0m\u001B[0;34m(\u001B[0m\u001B[0;34m'zeromq.yaml'\u001B[0m\u001B[0;34m)\u001B[0m\u001B[0;34m\u001B[0m\u001B[0;34m\u001B[0m\u001B[0m\n\u001B[0m\u001B[1;32m      2\u001B[0m \u001B[0;31m#base_config['run']['interface']['class'] = 'internal'\u001B[0m\u001B[0;34m\u001B[0m\u001B[0;34m\u001B[0m\u001B[0;34m\u001B[0m\u001B[0m\n\u001B[1;32m      3\u001B[0m \u001B[0mbase_config\u001B[0m\u001B[0;34m[\u001B[0m\u001B[0;34m'run'\u001B[0m\u001B[0;34m]\u001B[0m\u001B[0;34m[\u001B[0m\u001B[0;34m'runner'\u001B[0m\u001B[0;34m]\u001B[0m\u001B[0;34m[\u001B[0m\u001B[0;34m'class'\u001B[0m\u001B[0;34m]\u001B[0m \u001B[0;34m=\u001B[0m \u001B[0;34m'internal'\u001B[0m\u001B[0;34m\u001B[0m\u001B[0;34m\u001B[0m\u001B[0m\n\u001B[1;32m      4\u001B[0m \u001B[0mrunner\u001B[0m \u001B[0;34m=\u001B[0m \u001B[0mRunner\u001B[0m\u001B[0;34m.\u001B[0m\u001B[0mfrom_config\u001B[0m\u001B[0;34m(\u001B[0m\u001B[0mbase_config\u001B[0m\u001B[0;34m)\u001B[0m\u001B[0;34m\u001B[0m\u001B[0;34m\u001B[0m\u001B[0m\n\u001B[1;32m      5\u001B[0m \u001B[0mrunner\u001B[0m\u001B[0;34m.\u001B[0m\u001B[0mworker_cls\u001B[0m \u001B[0;34m=\u001B[0m \u001B[0mMockupWorker\u001B[0m\u001B[0;34m\u001B[0m\u001B[0;34m\u001B[0m\u001B[0m\n",
      "\u001B[0;31mNameError\u001B[0m: name 'Config' is not defined"
     ]
    }
   ],
   "source": [
    "base_config = Config.from_file('zeromq.yaml')\n",
    "#base_config['run']['interface']['class'] = 'internal'\n",
    "base_config['run']['runner']['class'] = 'internal'\n",
    "runner = Runner.from_config(base_config)\n",
    "runner.worker_cls = MockupWorker"
   ],
   "metadata": {
    "collapsed": false,
    "pycharm": {
     "name": "#%%\n"
    }
   }
  },
  {
   "cell_type": "code",
   "execution_count": 3,
   "outputs": [
    {
     "name": "stderr",
     "output_type": "stream",
     "text": [
      "INFO:Interface:REQ connected\n",
      "INFO:Interface:REP connected\n",
      "DEBUG:Runner Interface:received message b'req_0': [b'READY']\n",
      "DEBUG:Runner Interface:respond READY: input b'[[\"u\", \"float64\"]]' + 56 bytes, output b'[[\"f\", \"float64\", []]]'\n",
      "DEBUG:Interface:REQ READY: received [b'[[\"u\", \"float64\"]]', b'\\x00\\x00\\x00\\x00\\x00\\x00\\x00\\x00\\x00\\x00\\x00\\x00\\x00\\x00\\x00\\x00\\x00\\x00\\x00\\x00\\x00\\x00\\x00\\x00\\x00\\x00\\x00\\x00\\x00\\x00\\x00\\x00\\x00\\x00\\x00\\x00\\x00\\x00\\x00\\x00\\x00\\x00\\x00\\x00\\x00\\x00\\x00\\x00\\x00\\x00\\x00\\x00\\x00\\x00\\x00\\x00', b'[[\"f\", \"float64\", []]]']\n",
      "INFO:Interface:REQ READY: received input data\n",
      "INFO:Preprocessor:preprocessing\n",
      "DEBUG:Preprocessor:input (0.,)\n",
      "INFO:Worker:RUN: running simulation (mockup)\n",
      "DEBUG:Worker:RUN: stdout=stdout, stderr=None\n",
      "DEBUG:Worker:RUN: command=python worker.py\n",
      "/srv/home/robert/Data/Uni/BA/profit/profit/run/zeromq.py:114: RuntimeWarning: coroutine 'ZeroMQInterface.request' was never awaited\n",
      "  self.request('TIME')\n",
      "RuntimeWarning: Enable tracemalloc to get the object allocation traceback\n",
      "INFO:Postprocessor:postprocessing\n",
      "/srv/home/robert/Data/Uni/BA/profit/profit/run/zeromq.py:117: RuntimeWarning: coroutine 'ZeroMQInterface.request' was never awaited\n",
      "  self.request('DATA')\n",
      "RuntimeWarning: Enable tracemalloc to get the object allocation traceback\n",
      "INFO:Preprocessor:no cleanup for preprocessor necessary\n"
     ]
    },
    {
     "name": "stdout",
     "output_type": "stream",
     "text": [
      "<Task pending name='Task-1' coro=<ZeroMQRunnerInterface.loop() running at /srv/home/robert/Data/Uni/BA/profit/profit/run/zeromq.py:40> wait_for=<Future pending cb=[_AsyncSocket._add_recv_event.<locals>.<lambda>() at /srv/home/robert/Data/Uni/BA/profit/venv/lib/python3.8/site-packages/zmq/_future.py:351, <TaskWakeupMethWrapper object at 0x7fed864b66a0>()]>>\n"
     ]
    },
    {
     "data": {
      "text/plain": "array([(0.,), (0.,), (0.,), (0.,), (0.,), (0.,), (0.,)],\n      dtype=[('f', '<f8')])"
     },
     "execution_count": 3,
     "metadata": {},
     "output_type": "execute_result"
    }
   ],
   "source": [
    "await runner.spawn_run(wait=True)\n",
    "print(repr(runner.interface._loop))\n",
    "runner.interface.output"
   ],
   "metadata": {
    "collapsed": false,
    "pycharm": {
     "name": "#%%\n"
    }
   }
  },
  {
   "cell_type": "code",
   "execution_count": 4,
   "outputs": [
    {
     "data": {
      "text/plain": "True"
     },
     "execution_count": 4,
     "metadata": {},
     "output_type": "execute_result"
    }
   ],
   "source": [],
   "metadata": {
    "collapsed": false,
    "pycharm": {
     "name": "#%%\n"
    }
   }
  }
 ],
 "metadata": {
  "kernelspec": {
   "display_name": "Python 3",
   "language": "python",
   "name": "python3"
  },
  "language_info": {
   "codemirror_mode": {
    "name": "ipython",
    "version": 2
   },
   "file_extension": ".py",
   "mimetype": "text/x-python",
   "name": "python",
   "nbconvert_exporter": "python",
   "pygments_lexer": "ipython2",
   "version": "2.7.6"
  }
 },
 "nbformat": 4,
 "nbformat_minor": 0
}